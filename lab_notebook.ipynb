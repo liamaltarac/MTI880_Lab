{
 "cells": [
  {
   "cell_type": "markdown",
   "metadata": {},
   "source": [
    "# Train agent"
   ]
  },
  {
   "cell_type": "code",
   "execution_count": null,
   "metadata": {},
   "outputs": [],
   "source": [
    "import gym\n",
    "import gym_minigrid\n",
    "from gym_minigrid.wrappers import *\n",
    "from gym_minigrid.window import Window\n",
    "from stable_baselines3 import PPO, DQN, A2C\n",
    "import gym_gridgame\n",
    "import os\n",
    "import time\n",
    "import os\n",
    "import matplotlib\n",
    "\n",
    "#os.environ['CUDA_VISIBLE_DEVICES'] = \"1\"\n",
    "\n",
    "#models_dir = f\"models/{int(time.time())}/\"\n",
    "logdir = f\"logs/{int(time.time())}/\"\n",
    "\n",
    "\n",
    "\n",
    "if not os.path.exists(logdir):\n",
    "\tos.makedirs(logdir)\n",
    "\n",
    "env = gym.make('GridGame-v1')\n",
    "env = FlatObsWrapper(env) # Get pixel observations\n",
    "obs = env.reset() # This now produces an RGB tensor only\n",
    "\n",
    "#params = {'env_wrapper': gym_minigrid.wrappers.FlatObsWrapper}\n",
    "\n",
    "\n",
    "#env.step()\n",
    "env.reset()\n",
    "try:\n",
    "\tmodel = PPO('MlpPolicy' , env = env, verbose=1, tensorboard_log=logdir, device=\"auto\" ,  learning_rate= 3e-4,  gamma=0.99, n_steps=1024)\n",
    "\n",
    "\tTIMESTEPS = 10e6\n",
    "\titers = 0\n",
    "\t#for i in range(100):\n",
    "\t#iters += i\n",
    "\tmodel.learn(total_timesteps=TIMESTEPS)#, reset_num_timesteps=False, tb_log_name=f\"PPO\")\n",
    "\t#model.save(f\"{models_dir}/{TIMESTEPS*iters}\")\n",
    "\tprint(iters)\n",
    "except SystemExit:\n",
    "\tprint(\"Error\")\n",
    "\tenv.close()\n",
    "print(\"Done\")\n",
    "env.close()\n"
   ]
  },
  {
   "cell_type": "markdown",
   "metadata": {},
   "source": [
    "# Save model"
   ]
  },
  {
   "cell_type": "code",
   "execution_count": 5,
   "metadata": {},
   "outputs": [],
   "source": [
    "#Save model\n",
    "model.save(\"lava_no_tune\")"
   ]
  },
  {
   "cell_type": "markdown",
   "metadata": {},
   "source": [
    "# Create Video"
   ]
  },
  {
   "cell_type": "code",
   "execution_count": null,
   "metadata": {},
   "outputs": [],
   "source": [
    "\n",
    "from stable_baselines3.common.vec_env import VecVideoRecorder, DummyVecEnv\n",
    "import imageio\n",
    "\n",
    "obs = model.env.reset()\n",
    "img = model.env.render(mode='rgb_array')\n",
    "\n",
    "video_folder = 'videos/'\n",
    "video_length = 100\n",
    "\n",
    "images = []\n",
    "\n",
    "for i in range(3500):\n",
    "    images.append(img)\n",
    "    action, _ = model.predict(obs)\n",
    "    obs, _, _ ,_ = model.env.step(action)\n",
    "    img = model.env.render(mode='rgb_array')\n",
    "\n",
    "imageio.mimsave('lava_no_tune.gif', [np.array(img) for i, img in enumerate(images) if i%2 == 0], fps=10)"
   ]
  },
  {
   "cell_type": "markdown",
   "metadata": {},
   "source": [
    "# Plots"
   ]
  },
  {
   "cell_type": "code",
   "execution_count": null,
   "metadata": {},
   "outputs": [],
   "source": [
    "%tensorboard --logdir logs"
   ]
  }
 ],
 "metadata": {
  "interpreter": {
   "hash": "12ac5b4d630036dd984d249f0ca06a031c9f803d9086e9f651a16991300b1d88"
  },
  "kernelspec": {
   "display_name": "Python 3.9.7 ('sys809')",
   "language": "python",
   "name": "python3"
  },
  "language_info": {
   "codemirror_mode": {
    "name": "ipython",
    "version": 3
   },
   "file_extension": ".py",
   "mimetype": "text/x-python",
   "name": "python",
   "nbconvert_exporter": "python",
   "pygments_lexer": "ipython3",
   "version": "3.9.7"
  },
  "orig_nbformat": 4
 },
 "nbformat": 4,
 "nbformat_minor": 2
}
